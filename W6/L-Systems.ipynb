{
 "cells": [
  {
   "cell_type": "markdown",
   "metadata": {},
   "source": [
    "# L-systems\n",
    "\n",
    "F. Estrada - CSC D18 - Computer Graphics, Fall 2019\n",
    "\n",
    "Modified to Juptyer by Mustafa Quraish, 2019\n",
    "\n",
    "References: \n",
    "- [The Algorithmic Beauty of Plants](http://algorithmicbotany.org/papers/abop/abop.pdf)\n",
    "- [StructureSynth examples of trees and plants](https://sites.google.com/site/workofap/structure-synth/other-structure-synth-example)\n",
    "\n",
    "---\n",
    "\n",
    "*Note: This notebook assumes you already have all the files with **3D** transformations in the same folder. If you don't, make sure you download them from the course site. The files from previous weeks will **not** work here*.\n",
    "\n",
    "---"
   ]
  },
  {
   "cell_type": "markdown",
   "metadata": {},
   "source": [
    "## What is an L-system?\n",
    "\n",
    "An L-system or *Lindenmayer system* is a type of formal grammar (Think of CFGs from B36!). It consists of an alphabet of symbols that can be used to make strings, a collection of production rules that expand each symbol into some larger string of symbols. (Source: [Wiki](https://en.wikipedia.org/wiki/L-system))\n",
    "\n",
    "---\n",
    "\n",
    "The following function implements a simple L-system. It returns \n",
    "\n",
    "- `Tree`: An array that contains the structure of the system\n",
    "- `Tranforms`: An array that contains the transformation matrices for each part of the tree\n",
    "\n",
    "Note: Trees are hierarchical structures, so the transforms are obtained hierarchically in\n",
    "this script.\n",
    "\n",
    "However, notice that we return the ***final*** transform matrix for each piece (this is for convenience, so the code actually rendering the tree doesn't have to deal with compositing the hierarchical transforms).\n",
    "\n",
    "---\n",
    "\n",
    "We will now define a function that implements a simple L-system. Here, we will define our L-system to consist of the following symbols:\n",
    "\n",
    "- $a$ : A tree / plant segment (cylinder of given length)\n",
    "- $b$ : A tree / plant segment (cylinder of given length)\n",
    "- $c$ : A leaf\n",
    "- $d$ : A flower\n",
    "\n",
    "*While $a$ and $b$ both represent the same thing, they are not actually the same. You will see this in a moment.*\n",
    "\n",
    "Now, when we start, we will define the plant to contain a single symbol: \n",
    "\n",
    "\"$a$\"\n",
    "\n",
    "The stem of the plant. Then, for a pre-defined number of rounds (the `depth` parameter), we take  we repeat the following process:\n",
    "\n",
    "Replace each symbol in the current tree by choosing randomly from the following rules:\n",
    "\n",
    "$$ a \\rightarrow ab \\text{ with probability } P_{a, ab} $$\n",
    "$$ a \\rightarrow ac \\text{ with probability } P_{a, ac} $$\n",
    "$$ a \\rightarrow ad \\text{ with probability } P_{a, ad} $$\n",
    "$$ b \\rightarrow a \\text{ with probability } P_{b, a} $$\n",
    "$$ b \\rightarrow c \\text{ with probability } P_{b, c} $$\n",
    "$$ b \\rightarrow d \\text{ with probability } P_{b, d} $$\n",
    "\n",
    "*Note that $c$ and $d$ are terminal symbols; they don't get expanded.*\n",
    "\n",
    "For now, we will say that these are all the possible transitions. These probabilities are going to be passed in to the function in an array as the parameter `Probability_vector`.\n",
    "\n",
    "For example, if:\n",
    "\n",
    "```matlab\n",
    "Probability_vector = [0.6, 0.25, 0.15, 0.3, 0.4, 0.3]\n",
    "```\n",
    "\n",
    "Then $P_{a,ab} = 0.6$, $P_{a,ac} = 0.25$, $P_{a,ad} = 0.15$, and so on... \n",
    "\n",
    "*Note that all the probabilites for possible expansions of $a$ add up to $1$, and similarly for $b$*.\n",
    "\n",
    "$$\\displaystyle \\sum_x P_{a,x} = \\sum_y P_{b,y} = 1$$\n",
    "\n",
    "---\n",
    "\n",
    "Let's look at an example. If we start with our initial symbol $\"a\"$, then this is one possible expansion for $5$ rounds:\n",
    "\n",
    "- Round $0$:    \"$a$\"\n",
    "\n",
    "- Round $1$:    \"$ab$\"\n",
    "    - \"$a$\" got expanded to \"$ab$\"\n",
    "\n",
    "- Round $2$:    \"$ad$ $a$\"       \n",
    "    - \"$a$\" got expanded to \"$ad$\"\n",
    "    - \"$b$\" got expanded to \"$a$\"\n",
    "\n",
    "- Round $3$:    \"$ab$ $ab$\"      \n",
    "    - \"$a$\" got expanded to \"$ab$\"\n",
    "    - \"$d$\" is terminal so it doesn't expand\n",
    "    - \"$a$\" got expanded to \"$ad$\"\n",
    "    \n",
    "- Round $4$:    $????$\n",
    "    - What could be a possible expansion here?\n",
    "\n",
    "---\n"
   ]
  },
  {
   "cell_type": "markdown",
   "metadata": {},
   "source": [
    "The above gives the structure of a tree - how?\n",
    "\n",
    "- At the bottom (round $0$) there is a single stem (\"$a$\" is tree/plant segment)\n",
    "- Over that stem, there are two more stems (round 1 has \"$ab$\" both of which are stems but each expands differently!)\n",
    "- Over the \"$a$\" branch from round $1$ we have a stem (\"$a$\") and a flower \"$d$\", over the \"$b$\" branch we have a stem \"$a$\"\n",
    "- and so on...\n",
    "\n",
    "So, given the specific symbols generated from the initial \"$a$\" for each round, we can determine what should be drawn at each level of the tree! Since the expansion of a symbol at each round is determined randomly from the specified input probabilities, each tree you generate will be different!\n",
    "\n",
    "---\n",
    "\n",
    "There is one last detail to add to this - each symbol in the tree is associated with some type of structure\n",
    "(a stem, a flower, a leaf), but we must also have a transform matrix that places it at the right location,\n",
    "orientation, and scale in the tree! How do we obtain this?\n",
    "\n",
    "As follows:\n",
    "\n",
    "- Level 0\n",
    "\n",
    "    This is the base of the tree - it's a cylinder, its transform matrix is `RootTransform`, which is passed into this function. You can use this to specify the location, size, and orientation of this tree when calling the function.\n",
    "    \n",
    "\n",
    "- Level 1 \n",
    "\n",
    "    This corresponds to the structures from Round $1$ above. We have two stem pieces. To create a branching structure we:\n",
    "    \n",
    "    - Draw a cylinder that is scaled down by some factor (say by $0.9$ or $0.8$) from its *parent*\n",
    "    - It is located at the *end* of the parent shape (the stems at level $1$ start at the end \n",
    "        of the stem at level $0$)\n",
    "    - Is randomly rotated by some small amount (again, w.r.t. the parent) along the vertical axis.\n",
    "    - Is randomly rotated by some small amount (w.r.t. parent) along one of the other axes\n",
    "    - These transforms are hierarchical\n",
    "\n",
    "  So for example, to draw the \"$a$\" stem at level $1$, we could create a transform matrix as follows:\n",
    "\n",
    "   $$M_{a} = M_{parent} * T([0, 0, 2]) * S(0.9) * R_x(\\textit{random amount}) * R_z(\\textit{random amount})$$\n",
    "\n",
    "  That is, the transformation matrix for the \"$a$\" stem at level $1$ is given by:\n",
    "     - A random rotation around the $Z$ (vertical) axis\n",
    "     - A random rotation around the $X$ (one of the horizontal) axis\n",
    "     - Scaling by $0.9$\n",
    "     - Translation to the end of the parent shape (We're assuming the cylinder shape has length $2$ along\n",
    "       the vertical direction).\n",
    "\n",
    "     *The rotations should be positive or negative!*\n",
    " \n",
    "\n",
    "- At each subsequent round, we compute the corresponding transform matrices for each symbol as shown above, using\n",
    "  the parent symbol's transform matrix.\n",
    "\n",
    "The final result is a list of symbols to be drawn, along with their transforms. these are passed back for rendering...\n",
    "  \n",
    "---\n",
    "\n",
    "Example call:\n",
    "                                       \n",
    " `[Tree,Transforms] = makeLSystemTree(5,[0.6,0.25,0.15,0.3,0.4,0.3],0.8,2.0,RootTransform);`\n",
    "\n",
    "where the parameters (in order) are as follows:\n",
    "1. Number of levels $= 5$\n",
    "2. Probability vector $= [P_{a,ab},P_{a,ac},P_{a,ad},P_{b,a},P_{b,c},P_{b,d}] = [0.6, 0.25, 0.15, 0.3, 0.4, 0.3]$\n",
    "3. Scale factor $ = 0.8$\n",
    "4. Maximum rotation around the $X$ axis (away from vertical) $=2.0$\n",
    "5. Root level transform ($4\\times4$ homogeneous affine transform matrix)\n",
    "\n",
    "\n",
    "Return values:\n",
    "\n",
    "- `Tree` - a string of symbols with the symbols for each level concatenated.\n",
    "\n",
    "    For example, if:\n",
    "    - Round $0$: \"$a$\"\n",
    "    - Round $1$: \"$ab$\"\n",
    "    - Round $2$: \"$ab$ $d$\"\n",
    "\n",
    "  Then `Tree` = \"$aababd$\"\n",
    "  \n",
    "\n",
    "- `Transforms` -  A $(4\\times4\\times N)$ array with the transform matrices for each corresponding symbol\n",
    "   in `Tree`. \n",
    "   \n",
    "   In the example above the transform matrix for the first \"$a$\" is `Transforms(:,:,1)`, and the transform for the \"$b$\" at position $3$ in the string is `Transforms(:,:,3)`, and so on.\n",
    "   \n",
    "---\n",
    "\n",
    "*Complete the section marked **TODO** in the following code:*"
   ]
  },
  {
   "cell_type": "code",
   "execution_count": 1,
   "metadata": {},
   "outputs": [
    {
     "name": "stdout",
     "output_type": "stream",
     "text": [
      "Created file '/home/mustafa/Desktop/D18/W6/makeLSystemTree.m'.\n"
     ]
    }
   ],
   "source": [
    "%%file makeLSystemTree.m\n",
    "\n",
    "function [Tree, Transforms] = makeLSystemTree(depth, Probability_vector, scale, maxXrotation, RootTransform);\n",
    "\n",
    "  Tree = 'a';\n",
    "  TreeIndex = 1;\n",
    "  Transforms = zeros([4, 4, 2^depth]);\n",
    "  Transforms(:, :, 1) = RootTransform; % Initial Transform is the RootTransform\n",
    "\n",
    "  Tindex = 2;\n",
    "\n",
    "  for i = 1:depth\n",
    "\n",
    "    newLevel = ''; % New level for the tree, initially empty;\n",
    "\n",
    "    % Expand each symbol starting at 'TreeIndex' and until reaching the end of the current 'Tree'\n",
    "    while (TreeIndex <= length(Tree))\n",
    "\n",
    "      M_parent = Transforms(1:4, 1:4, TreeIndex); % This is the transform for the current symbol.\n",
    "\n",
    "      dice = rand(); % Our random choice for expansion\n",
    "\n",
    "      if (Tree(TreeIndex) == 'a')\n",
    "        %\n",
    "        % Expansions for 'a'\n",
    "        %\n",
    "        % Complete this part with expansions for 'a', notice that 'a' expands into 2 symbols,\n",
    "        % so you need to generate and store 2 new transform matrices based on the parent\n",
    "        % transform.\n",
    "        %\n",
    "        % You can see how this should work below, where it's done for 'b'. Only difference is\n",
    "        % 'b' always expands to a single symbol.\n",
    "        %\n",
    "        % Note that if the random expansion is a -> 'ab', you can choose to always use 'ab', or\n",
    "        % you can randomly choose to use 'ab' or 'ba'. The latter will give you a niced tree\n",
    "        % since otherwise structure is not evenly divided.\n",
    "        %\n",
    "        %%%%%%%%%%%%%%%%%%%\n",
    "        % TO BE COMPLETED\n",
    "        %%%%%%%%%%%%%%%%%%%\n",
    "\n",
    "\n",
    "      elseif(Tree(TreeIndex) == 'b')\n",
    "\n",
    "        % Expansions for 'b'\n",
    "        % Study this carefully, understand how it works, and then complete the\n",
    "        % code above to perform the expansions for 'a'.\n",
    "\n",
    "        % We need the local transform for this component:\n",
    "        \n",
    "        % Rotation in [0 - 2pi]\n",
    "        [x, Mrz] = Rz([1, 1, 1, 1]', 2*pi*rand);\n",
    "        % Rotation in [-maxXrotation/2  +maxXrotation/2]\n",
    "        [x, Mrx] = Rx([1, 1, 1, 1]', maxXrotation * (rand - .5));\n",
    "        % Uniform scaling by 'scale'\n",
    "        [x, Ms] = Sc([1, 1, 1, 1]', [scale scale scale 1]); \n",
    "        % Translate by (0, 0, 1)\n",
    "        [x, T] = Tr([1, 1, 1, 1]', [0, 0, 2, 1]'); \n",
    "        M_local = M_parent * T * Ms * Mrx * Mrz;\n",
    "\n",
    "        % Store this new matrix where it belongs\n",
    "        Transforms(:, :, Tindex) = M_local;\n",
    "        Tindex = Tindex + 1;\n",
    "\n",
    "        % Expansions for 'b' - Probabilities are stored in Probability_vector(4:6)\n",
    "        if (dice < Probability_vector(4))% Expand to 'a'\n",
    "          newLevel = [newLevel, 'a']; % So append an 'a' to newLevel\n",
    "        elseif(dice < Probability_vector(4) + Probability_vector(5))% Expand to 'c'\n",
    "          newLevel = [newLevel, 'c']; % So append a 'c' to newLevel\n",
    "        else\n",
    "          % It is not 'a' or 'c' so it must be 'd'\n",
    "          newLevel = [newLevel, 'd'];\n",
    "        end;  \n",
    "      end;\n",
    "      \n",
    "      TreeIndex = TreeIndex + 1;\n",
    "      \n",
    "    end; % End while\n",
    "\n",
    "    % Finished this round of expansion, append newLevel to Tree\n",
    "    Tree = [Tree, newLevel]; % Ready for next round.\n",
    "  end;"
   ]
  },
  {
   "cell_type": "markdown",
   "metadata": {},
   "source": [
    "---\n",
    "\n",
    "Now that we're done with the tedious work, let's get to rendering some plants! First, we need to set up the objects we want to render: stems, leaves and flowers. The following code defines a cylinder to use for the stem (You can make this more interesting!). We will define Z to be the vertical direction, and the cylinder will have a height of 2, and a radius of 0.1."
   ]
  },
  {
   "cell_type": "code",
   "execution_count": 2,
   "metadata": {},
   "outputs": [
    {
     "data": {
      "image/png": "[encoded data removed]",
      "text/plain": [
       "<IPython.core.display.Image object>"
      ]
     },
     "metadata": {},
     "output_type": "display_data"
    }
   ],
   "source": [
    "cylPts = [];\n",
    "for h = 0:.05:2\n",
    "  for th = 0:.25:2*pi\n",
    "    cylPts(end+1, :) = [0.1*cos(th), 0.1*sin(th), h, 1];\n",
    "  end;         \n",
    "end;\n",
    "\n",
    "clf;plot3(cylPts(:,1),cylPts(:,2),cylPts(:,3),'b.');\n",
    "title('A cylinder for stems');axis equal;"
   ]
  },
  {
   "cell_type": "markdown",
   "metadata": {},
   "source": [
    "Now, we define a leaf (you can change this to make it more interesting). Note that a leaf sits at the end of a stem, so we start with a cylinder!"
   ]
  },
  {
   "cell_type": "code",
   "execution_count": 3,
   "metadata": {},
   "outputs": [
    {
     "data": {
      "image/png": "[encoded data removed]",
      "text/plain": [
       "<IPython.core.display.Image object>"
      ]
     },
     "metadata": {},
     "output_type": "display_data"
    }
   ],
   "source": [
    "leafPts = cylPts;\n",
    "for th = 0:.05:2*pi\n",
    "   leafPts(end+1, :) = [1.35 + (1.5*cos(th)), .5*sin(th), 2.05, 1];\n",
    "end;    \n",
    "\n",
    "clf;plot3(leafPts(:,1),leafPts(:,2),leafPts(:,3),'g.');\n",
    "title('A leaf attached to a stem');axis equal;"
   ]
  },
  {
   "cell_type": "markdown",
   "metadata": {},
   "source": [
    "Lastly, Define a flower. Like a leaf, the flower sits at the end of a stem, so we start with a cylinder."
   ]
  },
  {
   "cell_type": "code",
   "execution_count": 4,
   "metadata": {},
   "outputs": [
    {
     "data": {
      "image/png": "[encoded data removed]",
      "text/plain": [
       "<IPython.core.display.Image object>"
      ]
     },
     "metadata": {},
     "output_type": "display_data"
    }
   ],
   "source": [
    "flowerPts = cylPts;\n",
    "petal = [];\n",
    "for th = 0:.05:2*pi\n",
    "  petal(end+1, :) = [1.35 + (1.5*cos(th)), .5*sin(th), 2.05, 1];\n",
    "end;\n",
    "\n",
    "flowerPts = [flowerPts; petal];\n",
    "pT = Rz(petal', 2*pi/5);\n",
    "flowerPts = [flowerPts; pT'];\n",
    "pT = Rz(petal', 4*pi/5);\n",
    "flowerPts = [flowerPts; pT'];\n",
    "pT = Rz(petal', 6*pi/5);\n",
    "flowerPts = [flowerPts; pT'];\n",
    "pT = Rz(petal', 8*pi/5);\n",
    "flowerPts = [flowerPts; pT'];\n",
    "\n",
    "clf;plot3(flowerPts(:,1),flowerPts(:,2),flowerPts(:,3),'m.');\n",
    "title('A flower attached to a stem'); axis equal;"
   ]
  },
  {
   "cell_type": "markdown",
   "metadata": {},
   "source": [
    "Everything's almost set up! Let's actually use our `makeLSystemTree()` function to make a tree now!"
   ]
  },
  {
   "cell_type": "code",
   "execution_count": 5,
   "metadata": {},
   "outputs": [],
   "source": [
    "% No initial transform\n",
    "TreeTransform = eye(4,4); \n",
    "\n",
    "% We can arbitrarily transform the tree by changing TreeTransform.\n",
    "% Since the tree is hierarchical, the transformation propagates to\n",
    "% all the objects. For example, uniform scaling by 0.9\n",
    "\n",
    "% Get transformation matrix for scaling\n",
    "[x, Ms] = Sc([1 1 1 1]', [.9 .9 .9 1]); \n",
    "                                    \n",
    "% Now our tree transform has scaling!\n",
    "TreeTransform = Ms * TreeTransform;     \n",
    "                          \n",
    "                            \n",
    "% Get a tree! (Familiarize yourself with the parameters above, if you forget)\n",
    "[Tree,Transforms] = makeLSystemTree(10,[.65,.15,.2,.4,.3,.3],.8,2.0,TreeTransform);"
   ]
  },
  {
   "attachments": {},
   "cell_type": "markdown",
   "metadata": {},
   "source": [
    "Now that we have our primitive shapes for the three symbols, let's draw the tree from the\n",
    "structure and transforms we obtained from `makeLSystemTree`. You should use the symbol string you got from `makeLSystemTree`, and the corresponding transformations, to plot your tree. Finish the code to plot the tree!\n",
    "\n",
    "*(Tip: replace `%plot native` with `%plot inline` if you're not running Jupyter locally, or just want to see the plot inline instead of in a separate window. You won't be able to pan around, however)*\n",
    "\n",
    "Sample render:\n",
    "<img src=\"https://imgur.com/r65WORR.png\" width=\"300\">"
   ]
  },
  {
   "cell_type": "code",
   "execution_count": 6,
   "metadata": {},
   "outputs": [],
   "source": [
    "%plot native \n",
    "\n",
    "hold on; title('One Tree to Rule Them All!');\n",
    "% view() changes the camera position for inline plots.\n",
    "v = [2 1 1]; view(v); axis equal;\n",
    "\n",
    "% TODO: Render the Tree!\n"
   ]
  },
  {
   "attachments": {},
   "cell_type": "markdown",
   "metadata": {},
   "source": [
    "---\n",
    "\n",
    "## Exercises\n",
    "\n",
    "---\n",
    "\n",
    "1. Improve `makeLSystemTree()` so that any symbols \"$a$\" or \"$b$\" (stems) at the top level are capped with either a flower or a leaf (otherwise the tree looks full of bare branches at the top)\n",
    "\n",
    "*Sample render:*\n",
    "<img src=\"https://imgur.com/lCmpZ8z.png\" width=\"300\">\n",
    "\n",
    "-----\n",
    "\n",
    "2. Build a forest with multiple trees (you can use different parameters to get differently shaped trees)\n",
    "\n",
    "*Sample render:*\n",
    "<img src=\"https://imgur.com/VwzgfvQ.png\" width=\"500\">\n",
    "\n",
    "***\n",
    "\n",
    "3. Add a terrain-level - that would be a parametric surface that represents the ground - many ways to do this!\n",
    "\n"
   ]
  },
  {
   "cell_type": "code",
   "execution_count": null,
   "metadata": {},
   "outputs": [],
   "source": []
  }
 ],
 "metadata": {
  "kernelspec": {
   "display_name": "Octave",
   "language": "octave",
   "name": "octave"
  },
  "language_info": {
   "codemirror_mode": "octave",
   "file_extension": ".m",
   "help_links": [
    {
     "text": "MetaKernel Magics",
     "url": "https://metakernel.readthedocs.io/en/latest/source/README.html"
    }
   ],
   "mimetype": "text/x-octave",
   "name": "matlab",
   "version": "0.16.7"
  }
 },
 "nbformat": 4,
 "nbformat_minor": 2
}
