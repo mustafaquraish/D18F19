{
 "cells": [
  {
   "cell_type": "markdown",
   "metadata": {},
   "source": [
    "# Heirarchical Transformations\n",
    "\n",
    "F. Estrada - CSC D18 - Computer Graphics, Fall 2019\n",
    "Modified into Juptyer by Mustafa Quraish, 2019\n",
    "\n",
    "---\n",
    "\n",
    "*Note: This notebook assumes you already have all the files with transformations defined from Week 3 in the same folder. If you don't, make sure you download them from the course site / generate them using the Jupyter notebook from that week.*\n",
    "\n",
    "---\n",
    " \n",
    "This script is meant to help you understand how we build complex articulated shapes using hierarchical transformations.\n",
    "\n",
    "Here, a simple 'robot-arm' is made of a few rectangular components (remember they have to start rectangular because hierarchical transforms don't work with non-uniform scaling).\n",
    "\n",
    "---\n",
    "\n",
    "First, let's define the function to draw a basic robot-arm containing 3 parts, given:\n",
    "\n",
    "- $\\theta$ - the angle between the first part and the second\n",
    "- $\\phi$ - the angle between the second part and the third\n",
    "\n",
    "We assume for now that subsequent parts are $80\\%$ the size of the previous one, but that could always be passed in."
   ]
  },
  {
   "cell_type": "code",
   "execution_count": 48,
   "metadata": {},
   "outputs": [
    {
     "name": "stdout",
     "output_type": "stream",
     "text": [
      "Created file '/home/mustafa/Desktop/D18/W3/heirarchical.m'.\n"
     ]
    }
   ],
   "source": [
    "%%file heirarchical.m\n",
    "\n",
    "% You may want to add more parameters here for the exercises...\n",
    "function [] = heirarchical(theta, phi);\n",
    "\n",
    "    % A 2D box centered along the Y axis\n",
    "    x = [-.5: .01: .5]';\n",
    "    y = [  0: .01:  1]';\n",
    "    \n",
    "    box=[           x         , zeros(length(x),1),\n",
    "         -.5*ones(length(x),1),         y         ,\n",
    "                    x         ,  ones(length(x),1),\n",
    "          .5*ones(length(x),1),         y         ];\n",
    "          \n",
    "    box(:, end+1) = zeros(length(box), 1);\n",
    "    box(:, end+1) = ones(length(box), 1);\n",
    "\n",
    "    %%%%%%%%%%%%%%%%%%%%%%%%%%%%%%%%%%%%%%%%%%%%%%%%%%%%%%%%%%%%%%%%%%%%%%%\n",
    "\n",
    "    % We will use rectangular parts, we know we don't want to\n",
    "    % use non-uniform scaling with hierarchical transforms, so\n",
    "    % we will prescale the box\n",
    "    \n",
    "    bT = S(box',[1 2 1 1]');  % bT is not a rectangular 'part' \n",
    "                              % that is 2 units tall and 1 unit wide\n",
    "\n",
    "    M1 = eye(4,4); % Identity matrix is the first part's transform\n",
    "\n",
    "    b1 = M1 * bT;  % Part 1 is just M1*bT\n",
    "\n",
    "    figure(1); clf; hold on; grid on; axis equal;\n",
    "    title('Hierarchical transforms example');\n",
    "    plot(b1(1,:), b1(2,:), 'b.');\n",
    "\n",
    "    %%%%%%%%%%%%%%%%%%%%%%%%%%%%%%%%%%%%%%%%%%%%%%%%%%%%%%%%%%%%%%%%%%%%%%%\n",
    "    \n",
    "    % Second part. Attached to the first part, rotated by theta degrees away\n",
    "    % from VERTICAL (i.e. zero means it is still a rectangle pointing up),\n",
    "    % and the part is 80% the size of part 1\n",
    "\n",
    "    M2 = eye(4,4);    % This will apply part2's local transform.\n",
    "                      % initially it's the identity matrix.\n",
    "\n",
    "    % Any shanges in size have to be applied first. In this case scale by\n",
    "    % 80% along x and y. Get a transform matrix for that - but don't apply it\n",
    "    % to the box's points yet (use a dummy vector)\n",
    "    [temp, Ms] = S([0 0 0 0]', [.8 .8 1 1]');\n",
    "\n",
    "    % Now apply any rotation needed. In this case, rotation in the x-y plane by\n",
    "    % angle theta means a rotation around the z axis by theta.\n",
    "    [temp, Mr] = Rz([0 0 0 0]', theta);\n",
    "\n",
    "    % Finally, translate to the top of part1, since part1 is 2 units long\n",
    "    % along y, simply translate by 2 along y\n",
    "    [temp, Mt] = T([0 0 0 0]', [0 2 0 1]');\n",
    "\n",
    "    % Compose the hierarchical transform matrix for part 2. Notice the order of\n",
    "    % matrix multiplication.\n",
    "    M2 = Mt * Mr * Ms;\n",
    "\n",
    "    % To generate the points for part 2, we have to apply M2 and M1, in the\n",
    "    % correct order! in this case, left to right!\n",
    "    b2 = M1 * M2 * bT;\n",
    "\n",
    "    plot(b2(1,:), b2(2,:), 'r.');\n",
    "    \n",
    "    %%%%%%%%%%%%%%%%%%%%%%%%%%%%%%%%%%%%%%%%%%%%%%%%%%%%%%%%%%%%%%%%%%%%%%%\n",
    "    \n",
    "    % Part 3 is located at the end of part2, rotated by `phi` degrees from the\n",
    "    % vertical axis of part 2, and scaled by 80% again\n",
    "\n",
    "    [temp, Ms] = S([0 0 0 0]', [.8 .8 1 1]');  % <- It's the same as part2!\n",
    "    [temp, Mr] = Rz([0 0 0 0]', phi);\n",
    "    [temp, Mt] = T([0 0 0 0]', [0 2 0 1]');    % <- Also the same as part2!\n",
    "\n",
    "    M3 = Mt * Mr * Ms;\n",
    "\n",
    "    % To generate points for part 3, apply M3, M2, and M1 in the correct order\n",
    "    % to our input box.\n",
    "\n",
    "    b3 = M1 * M2 * M3 * bT;\n",
    "\n",
    "    plot(b3(1,:), b3(2,:), 'm.');"
   ]
  },
  {
   "cell_type": "markdown",
   "metadata": {},
   "source": [
    "Before we move on, make sure you understand what the function above is doing. Once you think you understand it, see if the following output makes sense to you. Tweak the parameters and see the output till you're convinced you get it!"
   ]
  },
  {
   "cell_type": "code",
   "execution_count": 53,
   "metadata": {},
   "outputs": [
    {
     "data": {
      "image/png": "[encoded data removed]",
      "text/plain": [
       "<IPython.core.display.Image object>"
      ]
     },
     "metadata": {},
     "output_type": "display_data"
    }
   ],
   "source": [
    "heirarchical(pi/4, pi/2);"
   ]
  },
  {
   "cell_type": "markdown",
   "metadata": {},
   "source": [
    "---\n",
    "\n",
    "## Exercises\n",
    "\n",
    "1. Change the `heirarchical` function above so that the robot-arm now has $3$ fingers attached to the hand (the last part). The fingers should have adjustable angles. \n"
   ]
  },
  {
   "cell_type": "code",
   "execution_count": null,
   "metadata": {},
   "outputs": [],
   "source": [
    "heirarchical(pi/2, pi/3, ... ) % Now includes angles for the fingers!"
   ]
  },
  {
   "cell_type": "code",
   "execution_count": null,
   "metadata": {},
   "outputs": [],
   "source": []
  },
  {
   "cell_type": "code",
   "execution_count": null,
   "metadata": {},
   "outputs": [],
   "source": []
  }
 ],
 "metadata": {
  "kernelspec": {
   "display_name": "Matlab",
   "language": "matlab",
   "name": "matlab"
  },
  "language_info": {
   "codemirror_mode": "octave",
   "file_extension": ".m",
   "help_links": [
    {
     "text": "MetaKernel Magics",
     "url": "https://metakernel.readthedocs.io/en/latest/source/README.html"
    }
   ],
   "mimetype": "text/x-octave",
   "name": "matlab",
   "version": "0.16.7"
  }
 },
 "nbformat": 4,
 "nbformat_minor": 2
}
